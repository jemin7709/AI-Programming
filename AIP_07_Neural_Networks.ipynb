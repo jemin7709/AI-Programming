{
  "cells": [
    {
      "cell_type": "markdown",
      "metadata": {
        "id": "bQ-N7hKdRX0k"
      },
      "source": [
        "**MLP (Multi-Layer Perceptron)**"
      ]
    },
    {
      "cell_type": "code",
      "execution_count": null,
      "metadata": {
        "id": "m3S4xKfARNvz"
      },
      "outputs": [],
      "source": [
        "import torch\n",
        "import torchvision.datasets as dsets\n",
        "import torchvision.transforms as transforms\n",
        "from torch.utils.data import DataLoader\n",
        "import torch.nn as nn\n",
        "import matplotlib.pyplot as plt\n",
        "import random\n",
        "\n",
        "USE_CUDA = torch.cuda.is_available() # GPU를 사용가능하면 True, 아니라면 False를 리턴\n",
        "USE_MSP = torch.backends.mps.is_available()\n",
        "device = torch.device(\"mps\" if USE_MSP else \"cpu\") # GPU 사용 가능하면 사용하고 아니면 CPU 사용\n",
        "print(\"다음 기기로 학습합니다:\", device)\n",
        "\n",
        "# for reproducibility\n",
        "random.seed(777)\n",
        "torch.manual_seed(777)\n",
        "if device == 'cuda':\n",
        "    torch.cuda.manual_seed_all(777)"
      ]
    },
    {
      "cell_type": "markdown",
      "metadata": {
        "id": "rZy8D8YzRgqG"
      },
      "source": [
        "**Model code**"
      ]
    },
    {
      "cell_type": "code",
      "execution_count": null,
      "metadata": {
        "id": "41aIqiMiRiUD"
      },
      "outputs": [],
      "source": [
        "class MLP(torch.nn.Module):\n",
        "    def __init__(self):\n",
        "       #구현 필요\n",
        "      super(MLP, self).__init__()\n",
        "      self.model = nn.Sequential(\n",
        "         nn.Linear(784, 100),\n",
        "         nn.ReLU(),\n",
        "         nn.Linear(100, 100),\n",
        "         nn.ReLU(),\n",
        "         nn.Linear(100, 10)\n",
        "      )\n",
        "\n",
        "    def forward(self, x):        \n",
        "       #구현 필요\n",
        "       return self.model(x)"
      ]
    },
    {
      "cell_type": "markdown",
      "metadata": {
        "id": "FWfjCyhPT6us"
      },
      "source": [
        "**Training**"
      ]
    },
    {
      "cell_type": "code",
      "execution_count": null,
      "metadata": {
        "id": "x4FVNqaUT8GA"
      },
      "outputs": [],
      "source": [
        "# hyperparameters\n",
        "#구현 필요\n",
        "training_epochs = 3\n",
        "batch_size = 100\n",
        "\n",
        "# MNIST dataset\n",
        "\"\"\"\n",
        "이부분 주소 변경후 업로드\n",
        "\"\"\"\n",
        "mnist_train = dsets.MNIST(root='../MNIST_data/',\n",
        "                          train=True,\n",
        "                          transform=transforms.ToTensor(),\n",
        "                          download=True)\n",
        "\n",
        "mnist_test = dsets.MNIST(root='../MNIST_data/',\n",
        "                         train=False,\n",
        "                         transform=transforms.ToTensor(),\n",
        "                         download=True)\n",
        "\n",
        "# dataset loader\n",
        "data_loader = DataLoader(dataset=mnist_train,\n",
        "                        batch_size=batch_size,\n",
        "                        shuffle=True)\n",
        "\n",
        "# MLP 객체 생성\n",
        "#구현 필요\n",
        "model = MLP().to(device)\n",
        "criterion = nn.CrossEntropyLoss().cuda()\n",
        "optimizer = torch.optim.Adam(model.parameters(), lr=0.01)\n",
        "\n",
        "for epoch in range(training_epochs):\n",
        "    avg_cost = 0\n",
        "    total_batch = len(data_loader)\n",
        "\n",
        "    for idx, (x_train, y_train) in enumerate(data_loader):        \n",
        "        x_train = x_train.view(-1, 28 * 28).to(device)        \n",
        "        y_train = y_train.to(device)\n",
        "        \n",
        "        outputs = model(x_train)\n",
        "        cost = criterion(outputs, y_train)\n",
        "\n",
        "        optimizer.zero_grad()\n",
        "        cost.backward()\n",
        "        optimizer.step()\n",
        "\n",
        "        avg_cost += cost / total_batch\n",
        "\n",
        "    print('Epoch:', '%04d' % (epoch + 1), 'cost =', '{:.9f}'.format(avg_cost))\n",
        "\n",
        "print('Learning finished')"
      ]
    },
    {
      "cell_type": "markdown",
      "metadata": {
        "id": "k_6x36GkXDIT"
      },
      "source": [
        "**Testing**"
      ]
    },
    {
      "cell_type": "code",
      "execution_count": null,
      "metadata": {
        "id": "2zb90ghIWB92"
      },
      "outputs": [],
      "source": [
        "# 테스트 데이터를 사용하여 모델을 테스트한다.\n",
        "with torch.no_grad(): # torch.no_grad()를 하면 gradient 계산을 수행하지 않는다.\n",
        "    #구현 필요\n",
        "    x_test = mnist_test.data.view(-1, 28 * 28).float().to(device)\n",
        "    y_test = mnist_test.targets.to(device)\n",
        "\n",
        "    pred = model(x_test)\n",
        "    correct_prediction = torch.argmax(pred, 1) == y_test\n",
        "    accuracy = correct_prediction.float().mean()\n",
        "    print(\"Accuracy:\", accuracy.item())"
      ]
    },
    {
      "cell_type": "code",
      "execution_count": null,
      "metadata": {
        "id": "5OMx-7x2XSCF"
      },
      "outputs": [],
      "source": [
        "with torch.no_grad():    \n",
        "    # MNIST 테스트 데이터에서 틀린 샘플 중 무작위로 하나를 뽑아서 예측을 해본다\n",
        "    wrong_indices = (correct_prediction == 0).nonzero(as_tuple=True)[0]  #틀린 샘플들 인덱스 추출\n",
        "    r = random.randint(0, len(wrong_indices) - 1)\n",
        "    r = wrong_indices[r].cpu().item()\n",
        "    x_single_data = mnist_test.data[r:r + 1].view(-1, 28 * 28).float().to(device)\n",
        "    y_single_data = mnist_test.targets[r:r + 1].to(device)\n",
        "\n",
        "    print('Label: ', y_single_data.item())\n",
        "    single_prediction = model(x_single_data)\n",
        "    print('Prediction: ', torch.argmax(single_prediction, 1).item())\n",
        "\n",
        "    plt.imshow(mnist_test.data[r:r + 1].view(28, 28), cmap='Greys', interpolation='nearest')\n",
        "    plt.show()"
      ]
    },
    {
      "cell_type": "code",
      "execution_count": null,
      "metadata": {},
      "outputs": [],
      "source": []
    }
  ],
  "metadata": {
    "accelerator": "GPU",
    "colab": {
      "collapsed_sections": [],
      "provenance": []
    },
    "kernelspec": {
      "display_name": "Python 3.9.13 ('torch')",
      "language": "python",
      "name": "python3"
    },
    "language_info": {
      "codemirror_mode": {
        "name": "ipython",
        "version": 3
      },
      "file_extension": ".py",
      "mimetype": "text/x-python",
      "name": "python",
      "nbconvert_exporter": "python",
      "pygments_lexer": "ipython3",
      "version": "3.9.13 (main, Aug 25 2022, 18:29:29) \n[Clang 12.0.0 ]"
    },
    "vscode": {
      "interpreter": {
        "hash": "cbdf186485f0d0705b070c99caa6d78cb20f5cd365a5ae63bdd924dd718bb435"
      }
    }
  },
  "nbformat": 4,
  "nbformat_minor": 0
}
