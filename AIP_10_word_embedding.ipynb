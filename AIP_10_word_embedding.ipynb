{
  "cells": [
    {
      "cell_type": "markdown",
      "metadata": {
        "id": "5gF-7vYrqIr_"
      },
      "source": [
        "**Word2vec training using gensim**"
      ]
    },
    {
      "cell_type": "code",
      "execution_count": null,
      "metadata": {
        "id": "--2fW9Rv1u_C"
      },
      "outputs": [],
      "source": [
        "import gensim.downloader as api\n",
        "corpus = api.load('text8')"
      ]
    },
    {
      "cell_type": "code",
      "execution_count": null,
      "metadata": {
        "id": "QAqLTp1DqA96"
      },
      "outputs": [],
      "source": [
        "#원문 확인 및 총 문장 수 출력\n",
        "count = 0\n",
        "for i, e in enumerate(corpus):\n",
        "  if i < 10:    \n",
        "    # print (e)\n",
        "    pass\n",
        "  count += 1\n",
        "print (\"Total sentences: \", count)"
      ]
    },
    {
      "cell_type": "code",
      "execution_count": null,
      "metadata": {
        "id": "-ttcRd0rsMws"
      },
      "outputs": [],
      "source": [
        "import gensim.models\n",
        "\n",
        "#구현 필요\n",
        "model = gensim.models.Word2Vec(sentences=corpus, vector_size=100, window=5, min_count=5, sg=0)"
      ]
    },
    {
      "cell_type": "code",
      "execution_count": null,
      "metadata": {
        "id": "UPvK2AoBsf1T"
      },
      "outputs": [],
      "source": [
        "#구현 필요\n",
        "model_result = model.wv.most_similar(\"country\")\n",
        "print(model_result)"
      ]
    },
    {
      "cell_type": "code",
      "execution_count": null,
      "metadata": {
        "id": "anHX5HRq0K4T"
      },
      "outputs": [],
      "source": [
        "pairs = [\n",
        "    ('car', 'minivan'),   # a minivan is a kind of car\n",
        "    ('car', 'bicycle'),   # still a wheeled vehicle\n",
        "    ('car', 'airplane'),  # ok, no wheels, but still a vehicle\n",
        "    ('car', 'cereal'),    # ... and so on\n",
        "    ('car', 'alchemy'),\n",
        "]\n",
        "for w1, w2 in pairs:\n",
        "    print('%r\\t%r\\t%.2f' % \n",
        "       #구현 필요\n",
        "       (w1, w2, model.wv.similarity(w1, w2)))"
      ]
    },
    {
      "cell_type": "code",
      "execution_count": null,
      "metadata": {
        "id": "gYL-YwBE6tQJ"
      },
      "outputs": [],
      "source": [
        "#구현 필요\n",
        "print(model.wv['car'])"
      ]
    },
    {
      "cell_type": "code",
      "execution_count": null,
      "metadata": {
        "id": "yaXWpIe_7KBv"
      },
      "outputs": [],
      "source": [
        "# 모델 저장\n",
        "# 구현 필요\n",
        "model.save('text8_w2v')\n",
        "\n",
        "# 모델 로드\n",
        "# 구현 필요\n",
        "loaded_model = gensim.models.Word2Vec.load(\"text8_w2v\")\n",
        "print(loaded_model.wv['car'])"
      ]
    },
    {
      "cell_type": "markdown",
      "metadata": {
        "id": "DX2Gh4IA6bJn"
      },
      "source": [
        "**PyTorch nn.Embedding**"
      ]
    },
    {
      "cell_type": "code",
      "execution_count": null,
      "metadata": {
        "id": "Uru_42Zv5YCh"
      },
      "outputs": [],
      "source": [
        "train_data = 'you need to know how to code'\n",
        "\n",
        "# 중복을 제거한 단어들의 집합인 단어 집합 생성.\n",
        "word_set = set(train_data.split())\n",
        "\n",
        "# 단어 집합의 각 단어에 고유한 정수 맵핑.\n",
        "# 구현 필요\n",
        "vocab = {word: i +2 for i, word in enumerate(word_set)}\n",
        "vocab['<unk>'] = 0\n",
        "vocab['<pad>'] = 1\n",
        "print(vocab)"
      ]
    },
    {
      "cell_type": "code",
      "execution_count": null,
      "metadata": {
        "id": "FbXkQTjs7E4F"
      },
      "outputs": [],
      "source": [
        "import torch\n",
        "# 단어 집합의 크기만큼의 행을 가지는 테이블 생성.\n",
        "embedding_table = torch.FloatTensor([\n",
        "                               [ 0.0,  0.0,  0.0],\n",
        "                               [ 0.0,  0.0,  0.0],\n",
        "                               [ 0.2,  0.9,  0.3],\n",
        "                               [ 0.1,  0.5,  0.7],\n",
        "                               [ 0.2,  0.1,  0.8],\n",
        "                               [ 0.4,  0.1,  0.1],\n",
        "                               [ 0.1,  0.8,  0.9],\n",
        "                               [ 0.6,  0.1,  0.1]])"
      ]
    },
    {
      "cell_type": "code",
      "execution_count": null,
      "metadata": {
        "id": "m5WwU6Bo72-g"
      },
      "outputs": [],
      "source": [
        "sample = 'you need to run'.split()\n",
        "idxes = []\n",
        "\n",
        "# 각 단어를 정수로 변환\n",
        "for word in sample:\n",
        "  # 구현 필요\n",
        "  try:\n",
        "    idxes.append(vocab[word])\n",
        "  except KeyError:\n",
        "    idxes.append(vocab['<unk>'])\n",
        "idxes = torch.LongTensor(idxes)\n",
        "print(idxes)"
      ]
    },
    {
      "cell_type": "code",
      "execution_count": null,
      "metadata": {
        "id": "tV4Pc9_EH6re"
      },
      "outputs": [],
      "source": [
        "# 각 정수를 인덱스로 임베딩 테이블에서 값을 가져온다.\n",
        "# 구현 필요\n",
        "lookup_result = embedding_table[idxes, :]\n",
        "print(lookup_result)"
      ]
    },
    {
      "cell_type": "code",
      "execution_count": null,
      "metadata": {
        "id": "Q9ESOytO78GI"
      },
      "outputs": [],
      "source": [
        "import torch.nn as nn\n",
        "# 구현 필요\n",
        "embedding_layer = nn.Embedding(num_embeddings=len(vocab),\n",
        "                                embedding_dim=3,\n",
        "                                padding_idx=1)\n",
        "print(embedding_layer.weight)"
      ]
    },
    {
      "cell_type": "code",
      "execution_count": null,
      "metadata": {
        "id": "LHMlonLR8Fjo"
      },
      "outputs": [],
      "source": [
        "sample = 'you need to run'.split()\n",
        "idxes = []\n",
        "\n",
        "# 각 단어를 정수로 변환\n",
        "for word in sample:\n",
        "  try:\n",
        "    idxes.append(vocab[word])\n",
        "  # 단어 집합에 없는 단어일 경우 <unk>로 대체된다.\n",
        "  except KeyError:\n",
        "    idxes.append(vocab['<unk>'])\n",
        "idxes = torch.LongTensor(idxes)\n",
        "\n",
        "# 각 정수를 인덱스로 임베딩 테이블에서 값을 가져온다.\n",
        "# 구현 필요\n",
        "lookup_result = embedding_layer(idxes)\n",
        "print(lookup_result)"
      ]
    },
    {
      "cell_type": "code",
      "execution_count": null,
      "metadata": {
        "id": "7omkFMmW8Z1J"
      },
      "outputs": [],
      "source": []
    }
  ],
  "metadata": {
    "colab": {
      "collapsed_sections": [],
      "provenance": []
    },
    "kernelspec": {
      "display_name": "Python 3.9.13 ('torch')",
      "language": "python",
      "name": "python3"
    },
    "language_info": {
      "codemirror_mode": {
        "name": "ipython",
        "version": 3
      },
      "file_extension": ".py",
      "mimetype": "text/x-python",
      "name": "python",
      "nbconvert_exporter": "python",
      "pygments_lexer": "ipython3",
      "version": "3.9.13 (main, Aug 25 2022, 18:29:29) \n[Clang 12.0.0 ]"
    },
    "vscode": {
      "interpreter": {
        "hash": "cbdf186485f0d0705b070c99caa6d78cb20f5cd365a5ae63bdd924dd718bb435"
      }
    }
  },
  "nbformat": 4,
  "nbformat_minor": 0
}
